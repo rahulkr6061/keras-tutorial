{
  "nbformat": 4,
  "nbformat_minor": 0,
  "metadata": {
    "colab": {
      "name": "01_Linear_Regression.ipynb",
      "provenance": [],
      "collapsed_sections": []
    },
    "kernelspec": {
      "name": "python3",
      "display_name": "Python 3"
    },
    "language_info": {
      "name": "python"
    }
  },
  "cells": [
    {
      "cell_type": "code",
      "source": [
        "## Import Libraries\n",
        "import tensorflow as tf\n",
        "from tensorflow import keras\n",
        "import matplotlib.pyplot as plt\n",
        "%matplotlib inline\n",
        "import numpy as np\n",
        "\n",
        "import pandas as pd\n",
        "from sklearn.model_selection import train_test_split\n",
        "from sklearn.preprocessing import StandardScaler\n",
        "from sklearn.datasets import load_boston\n",
        "import warnings\n",
        "warnings.filterwarnings(\"ignore\")"
      ],
      "metadata": {
        "id": "e3tnBrcIYf9u"
      },
      "execution_count": 16,
      "outputs": []
    },
    {
      "cell_type": "markdown",
      "source": [
        " # Implementing Linear regression for single independent variable\n"
      ],
      "metadata": {
        "id": "vbIybKVMZf1B"
      }
    },
    {
      "cell_type": "code",
      "source": [
        "# Generate dataset\n",
        "X = np.linspace(-1, 1, 101)\n",
        "Y = 2 * X + np.random.randn(*X.shape) * 0.33 "
      ],
      "metadata": {
        "id": "Kq8IS5kCYf7Z"
      },
      "execution_count": 2,
      "outputs": []
    },
    {
      "cell_type": "code",
      "source": [
        "# Define architecture of data\n",
        "model = keras.Sequential([\n",
        "            keras.layers.Dense(units=1,input_dim=1, activation='linear'\n",
        "    )])\n",
        "model.compile(optimizer='sgd',\n",
        "              loss='mse')"
      ],
      "metadata": {
        "id": "mWmdUhy9Yf5-"
      },
      "execution_count": 8,
      "outputs": []
    },
    {
      "cell_type": "code",
      "source": [
        "## Initialized weights\n",
        "weights = model.layers[0].get_weights()\n",
        "w_init = weights[0][0][0]\n",
        "b_init = weights[1][0]\n",
        "print('Linear regression model is initialized with weight w: %.2f, b: %.2f' % (w_init, b_init))\n"
      ],
      "metadata": {
        "colab": {
          "base_uri": "https://localhost:8080/"
        },
        "id": "8W3v6VrMYf4J",
        "outputId": "a1871626-2d3e-4d94-cd50-aaf947b796cf"
      },
      "execution_count": 9,
      "outputs": [
        {
          "output_type": "stream",
          "name": "stdout",
          "text": [
            "Linear regression model is initialized with weight w: -0.99, b: 0.00\n"
          ]
        }
      ]
    },
    {
      "cell_type": "code",
      "source": [
        "model.fit(X, Y, epochs=100)"
      ],
      "metadata": {
        "colab": {
          "base_uri": "https://localhost:8080/"
        },
        "id": "lZgsHv3YYf2P",
        "outputId": "86b986f5-c225-43e3-8fb4-051422374e90"
      },
      "execution_count": 10,
      "outputs": [
        {
          "output_type": "stream",
          "name": "stdout",
          "text": [
            "Epoch 1/100\n",
            "4/4 [==============================] - 0s 3ms/step - loss: 3.1304\n",
            "Epoch 2/100\n",
            "4/4 [==============================] - 0s 3ms/step - loss: 2.9670\n",
            "Epoch 3/100\n",
            "4/4 [==============================] - 0s 2ms/step - loss: 2.8046\n",
            "Epoch 4/100\n",
            "4/4 [==============================] - 0s 3ms/step - loss: 2.6351\n",
            "Epoch 5/100\n",
            "4/4 [==============================] - 0s 3ms/step - loss: 2.4905\n",
            "Epoch 6/100\n",
            "4/4 [==============================] - 0s 3ms/step - loss: 2.3588\n",
            "Epoch 7/100\n",
            "4/4 [==============================] - 0s 2ms/step - loss: 2.2336\n",
            "Epoch 8/100\n",
            "4/4 [==============================] - 0s 2ms/step - loss: 2.1244\n",
            "Epoch 9/100\n",
            "4/4 [==============================] - 0s 2ms/step - loss: 2.0218\n",
            "Epoch 10/100\n",
            "4/4 [==============================] - 0s 2ms/step - loss: 1.9128\n",
            "Epoch 11/100\n",
            "4/4 [==============================] - 0s 3ms/step - loss: 1.8109\n",
            "Epoch 12/100\n",
            "4/4 [==============================] - 0s 2ms/step - loss: 1.7181\n",
            "Epoch 13/100\n",
            "4/4 [==============================] - 0s 2ms/step - loss: 1.6334\n",
            "Epoch 14/100\n",
            "4/4 [==============================] - 0s 3ms/step - loss: 1.5576\n",
            "Epoch 15/100\n",
            "4/4 [==============================] - 0s 3ms/step - loss: 1.4778\n",
            "Epoch 16/100\n",
            "4/4 [==============================] - 0s 3ms/step - loss: 1.4080\n",
            "Epoch 17/100\n",
            "4/4 [==============================] - 0s 3ms/step - loss: 1.3403\n",
            "Epoch 18/100\n",
            "4/4 [==============================] - 0s 2ms/step - loss: 1.2800\n",
            "Epoch 19/100\n",
            "4/4 [==============================] - 0s 3ms/step - loss: 1.2093\n",
            "Epoch 20/100\n",
            "4/4 [==============================] - 0s 3ms/step - loss: 1.1510\n",
            "Epoch 21/100\n",
            "4/4 [==============================] - 0s 3ms/step - loss: 1.0956\n",
            "Epoch 22/100\n",
            "4/4 [==============================] - 0s 3ms/step - loss: 1.0419\n",
            "Epoch 23/100\n",
            "4/4 [==============================] - 0s 5ms/step - loss: 0.9900\n",
            "Epoch 24/100\n",
            "4/4 [==============================] - 0s 3ms/step - loss: 0.9425\n",
            "Epoch 25/100\n",
            "4/4 [==============================] - 0s 2ms/step - loss: 0.8950\n",
            "Epoch 26/100\n",
            "4/4 [==============================] - 0s 3ms/step - loss: 0.8496\n",
            "Epoch 27/100\n",
            "4/4 [==============================] - 0s 3ms/step - loss: 0.8049\n",
            "Epoch 28/100\n",
            "4/4 [==============================] - 0s 3ms/step - loss: 0.7674\n",
            "Epoch 29/100\n",
            "4/4 [==============================] - 0s 2ms/step - loss: 0.7332\n",
            "Epoch 30/100\n",
            "4/4 [==============================] - 0s 3ms/step - loss: 0.7041\n",
            "Epoch 31/100\n",
            "4/4 [==============================] - 0s 3ms/step - loss: 0.6675\n",
            "Epoch 32/100\n",
            "4/4 [==============================] - 0s 3ms/step - loss: 0.6367\n",
            "Epoch 33/100\n",
            "4/4 [==============================] - 0s 3ms/step - loss: 0.6100\n",
            "Epoch 34/100\n",
            "4/4 [==============================] - 0s 3ms/step - loss: 0.5801\n",
            "Epoch 35/100\n",
            "4/4 [==============================] - 0s 3ms/step - loss: 0.5573\n",
            "Epoch 36/100\n",
            "4/4 [==============================] - 0s 2ms/step - loss: 0.5341\n",
            "Epoch 37/100\n",
            "4/4 [==============================] - 0s 4ms/step - loss: 0.5109\n",
            "Epoch 38/100\n",
            "4/4 [==============================] - 0s 4ms/step - loss: 0.4883\n",
            "Epoch 39/100\n",
            "4/4 [==============================] - 0s 4ms/step - loss: 0.4689\n",
            "Epoch 40/100\n",
            "4/4 [==============================] - 0s 3ms/step - loss: 0.4491\n",
            "Epoch 41/100\n",
            "4/4 [==============================] - 0s 2ms/step - loss: 0.4330\n",
            "Epoch 42/100\n",
            "4/4 [==============================] - 0s 3ms/step - loss: 0.4181\n",
            "Epoch 43/100\n",
            "4/4 [==============================] - 0s 3ms/step - loss: 0.4021\n",
            "Epoch 44/100\n",
            "4/4 [==============================] - 0s 2ms/step - loss: 0.3877\n",
            "Epoch 45/100\n",
            "4/4 [==============================] - 0s 2ms/step - loss: 0.3704\n",
            "Epoch 46/100\n",
            "4/4 [==============================] - 0s 3ms/step - loss: 0.3547\n",
            "Epoch 47/100\n",
            "4/4 [==============================] - 0s 3ms/step - loss: 0.3405\n",
            "Epoch 48/100\n",
            "4/4 [==============================] - 0s 2ms/step - loss: 0.3284\n",
            "Epoch 49/100\n",
            "4/4 [==============================] - 0s 3ms/step - loss: 0.3160\n",
            "Epoch 50/100\n",
            "4/4 [==============================] - 0s 3ms/step - loss: 0.3046\n",
            "Epoch 51/100\n",
            "4/4 [==============================] - 0s 3ms/step - loss: 0.2946\n",
            "Epoch 52/100\n",
            "4/4 [==============================] - 0s 5ms/step - loss: 0.2849\n",
            "Epoch 53/100\n",
            "4/4 [==============================] - 0s 4ms/step - loss: 0.2754\n",
            "Epoch 54/100\n",
            "4/4 [==============================] - 0s 4ms/step - loss: 0.2663\n",
            "Epoch 55/100\n",
            "4/4 [==============================] - 0s 3ms/step - loss: 0.2578\n",
            "Epoch 56/100\n",
            "4/4 [==============================] - 0s 3ms/step - loss: 0.2500\n",
            "Epoch 57/100\n",
            "4/4 [==============================] - 0s 3ms/step - loss: 0.2431\n",
            "Epoch 58/100\n",
            "4/4 [==============================] - 0s 3ms/step - loss: 0.2370\n",
            "Epoch 59/100\n",
            "4/4 [==============================] - 0s 3ms/step - loss: 0.2293\n",
            "Epoch 60/100\n",
            "4/4 [==============================] - 0s 2ms/step - loss: 0.2215\n",
            "Epoch 61/100\n",
            "4/4 [==============================] - 0s 3ms/step - loss: 0.2159\n",
            "Epoch 62/100\n",
            "4/4 [==============================] - 0s 2ms/step - loss: 0.2106\n",
            "Epoch 63/100\n",
            "4/4 [==============================] - 0s 2ms/step - loss: 0.2048\n",
            "Epoch 64/100\n",
            "4/4 [==============================] - 0s 3ms/step - loss: 0.1995\n",
            "Epoch 65/100\n",
            "4/4 [==============================] - 0s 3ms/step - loss: 0.1949\n",
            "Epoch 66/100\n",
            "4/4 [==============================] - 0s 3ms/step - loss: 0.1901\n",
            "Epoch 67/100\n",
            "4/4 [==============================] - 0s 3ms/step - loss: 0.1855\n",
            "Epoch 68/100\n",
            "4/4 [==============================] - 0s 4ms/step - loss: 0.1810\n",
            "Epoch 69/100\n",
            "4/4 [==============================] - 0s 3ms/step - loss: 0.1772\n",
            "Epoch 70/100\n",
            "4/4 [==============================] - 0s 3ms/step - loss: 0.1740\n",
            "Epoch 71/100\n",
            "4/4 [==============================] - 0s 4ms/step - loss: 0.1700\n",
            "Epoch 72/100\n",
            "4/4 [==============================] - 0s 4ms/step - loss: 0.1668\n",
            "Epoch 73/100\n",
            "4/4 [==============================] - 0s 3ms/step - loss: 0.1639\n",
            "Epoch 74/100\n",
            "4/4 [==============================] - 0s 3ms/step - loss: 0.1613\n",
            "Epoch 75/100\n",
            "4/4 [==============================] - 0s 4ms/step - loss: 0.1584\n",
            "Epoch 76/100\n",
            "4/4 [==============================] - 0s 4ms/step - loss: 0.1553\n",
            "Epoch 77/100\n",
            "4/4 [==============================] - 0s 3ms/step - loss: 0.1522\n",
            "Epoch 78/100\n",
            "4/4 [==============================] - 0s 3ms/step - loss: 0.1500\n",
            "Epoch 79/100\n",
            "4/4 [==============================] - 0s 3ms/step - loss: 0.1479\n",
            "Epoch 80/100\n",
            "4/4 [==============================] - 0s 2ms/step - loss: 0.1455\n",
            "Epoch 81/100\n",
            "4/4 [==============================] - 0s 3ms/step - loss: 0.1435\n",
            "Epoch 82/100\n",
            "4/4 [==============================] - 0s 3ms/step - loss: 0.1416\n",
            "Epoch 83/100\n",
            "4/4 [==============================] - 0s 2ms/step - loss: 0.1389\n",
            "Epoch 84/100\n",
            "4/4 [==============================] - 0s 2ms/step - loss: 0.1369\n",
            "Epoch 85/100\n",
            "4/4 [==============================] - 0s 2ms/step - loss: 0.1344\n",
            "Epoch 86/100\n",
            "4/4 [==============================] - 0s 3ms/step - loss: 0.1331\n",
            "Epoch 87/100\n",
            "4/4 [==============================] - 0s 2ms/step - loss: 0.1318\n",
            "Epoch 88/100\n",
            "4/4 [==============================] - 0s 3ms/step - loss: 0.1303\n",
            "Epoch 89/100\n",
            "4/4 [==============================] - 0s 3ms/step - loss: 0.1290\n",
            "Epoch 90/100\n",
            "4/4 [==============================] - 0s 2ms/step - loss: 0.1279\n",
            "Epoch 91/100\n",
            "4/4 [==============================] - 0s 2ms/step - loss: 0.1268\n",
            "Epoch 92/100\n",
            "4/4 [==============================] - 0s 2ms/step - loss: 0.1256\n",
            "Epoch 93/100\n",
            "4/4 [==============================] - 0s 2ms/step - loss: 0.1245\n",
            "Epoch 94/100\n",
            "4/4 [==============================] - 0s 3ms/step - loss: 0.1236\n",
            "Epoch 95/100\n",
            "4/4 [==============================] - 0s 3ms/step - loss: 0.1225\n",
            "Epoch 96/100\n",
            "4/4 [==============================] - 0s 3ms/step - loss: 0.1213\n",
            "Epoch 97/100\n",
            "4/4 [==============================] - 0s 3ms/step - loss: 0.1201\n",
            "Epoch 98/100\n",
            "4/4 [==============================] - 0s 3ms/step - loss: 0.1195\n",
            "Epoch 99/100\n",
            "4/4 [==============================] - 0s 3ms/step - loss: 0.1189\n",
            "Epoch 100/100\n",
            "4/4 [==============================] - 0s 3ms/step - loss: 0.1182\n"
          ]
        },
        {
          "output_type": "execute_result",
          "data": {
            "text/plain": [
              "<keras.callbacks.History at 0x7f5de325f9d0>"
            ]
          },
          "metadata": {},
          "execution_count": 10
        }
      ]
    },
    {
      "cell_type": "code",
      "source": [
        "# Print trained weights\n",
        "weights = model.layers[0].get_weights()\n",
        "w = weights[0][0][0]\n",
        "b = weights[1][0]\n",
        "print('Linear regression model is trained with weight w: %.2f, b: %.2f' % (w, b))\n"
      ],
      "metadata": {
        "colab": {
          "base_uri": "https://localhost:8080/"
        },
        "id": "Kz4FbWCEYfyM",
        "outputId": "9259e5c0-4ae0-47a1-f64f-5089de866d53"
      },
      "execution_count": 11,
      "outputs": [
        {
          "output_type": "stream",
          "name": "stdout",
          "text": [
            "Linear regression model is trained with weight w: 1.83, b: 0.02\n"
          ]
        }
      ]
    },
    {
      "cell_type": "code",
      "source": [
        "plt.plot(X, Y, label='data')\n",
        "plt.plot(X, w_init*X + b_init, label='init')\n",
        "plt.plot(X, w*X + b, label='prediction')\n",
        "plt.legend()\n",
        "plt.show()"
      ],
      "metadata": {
        "colab": {
          "base_uri": "https://localhost:8080/",
          "height": 265
        },
        "id": "jpt4NJBXYfvf",
        "outputId": "b702077e-f9c9-4cce-eefa-5bd81681b487"
      },
      "execution_count": 12,
      "outputs": [
        {
          "output_type": "display_data",
          "data": {
            "image/png": "[encoded data removed]",
            "text/plain": [
              "<Figure size 432x288 with 1 Axes>"
            ]
          },
          "metadata": {
            "needs_background": "light"
          }
        }
      ]
    },
    {
      "cell_type": "markdown",
      "source": [
        "## Build a linear regression model for multiple independent variable"
      ],
      "metadata": {
        "id": "4w-DGodGalII"
      }
    },
    {
      "cell_type": "code",
      "source": [
        "#load the dataset\n",
        "data = load_boston()\n",
        "#convert the dataset into a Pandas dataframe and add the target column named 'Price'\n",
        "df = pd.DataFrame(data.data, columns=data.feature_names)\n",
        "df['Price'] = data.target"
      ],
      "metadata": {
        "id": "DOte2YZRWHIC"
      },
      "execution_count": 17,
      "outputs": []
    },
    {
      "cell_type": "code",
      "source": [
        "#One-Hot Encode the CHAS column\n",
        "df = pd.get_dummies(df, columns=['CHAS'], drop_first=True)\n",
        "#define the features and the labels, X and y\n",
        "X = df.drop(['Price'], axis=1)\n",
        "y = df['Price']\n",
        "\n",
        "#split the features and labels into  train and test data\n",
        "X_train, X_test, y_train, y_test = train_test_split(X, y, test_size=0.2, random_state=1)\n",
        "\n",
        "#rescale the data to be robust to outliers\n",
        "scaler = StandardScaler()\n",
        "scaler.fit(X_train)\n",
        "X_train = scaler.transform(X_train)\n",
        "X_test = scaler.transform(X_test)"
      ],
      "metadata": {
        "id": "dKpwf1XBWf73"
      },
      "execution_count": 18,
      "outputs": []
    },
    {
      "cell_type": "code",
      "source": [
        "X_train.shape"
      ],
      "metadata": {
        "colab": {
          "base_uri": "https://localhost:8080/"
        },
        "id": "v4NhI9ECbUcl",
        "outputId": "118ed64f-73b8-4a83-a583-0272120cfa63"
      },
      "execution_count": 19,
      "outputs": [
        {
          "output_type": "execute_result",
          "data": {
            "text/plain": [
              "(404, 13)"
            ]
          },
          "metadata": {},
          "execution_count": 19
        }
      ]
    },
    {
      "cell_type": "code",
      "source": [
        "model = Sequential()\n",
        "model.add(Dense(15, input_dim=11, activation='relu'))\n",
        "model.add(Dense(7, activation='relu'))\n",
        "model.add(Dense(3, activation='relu'))\n",
        "model.add(Dense(1, activation='linear'))"
      ],
      "metadata": {
        "id": "2fXlatGibSVA"
      },
      "execution_count": null,
      "outputs": []
    },
    {
      "cell_type": "code",
      "source": [
        "model = keras.Sequential([\n",
        "                          keras.layers.Dense(units=13,input_dim=13, activation='relu'),\n",
        "                          keras.layers.Dense(units=13,input_dim=13, activation='relu'),\n",
        "                          keras.layers.Dense(units=1,input_dim=13, activation='linear')\n",
        "                          ])\n",
        "model.compile(optimizer='sgd',\n",
        "              loss='mse',metrics=['mse', 'mae'])\n"
      ],
      "metadata": {
        "id": "0hdzuCpXXFsP"
      },
      "execution_count": 21,
      "outputs": []
    },
    {
      "cell_type": "code",
      "source": [
        "model.fit(X_train, y_train, epochs=100,validation_split=0.2)"
      ],
      "metadata": {
        "colab": {
          "base_uri": "https://localhost:8080/"
        },
        "id": "jVmiVXq1XFxs",
        "outputId": "40c1a570-5963-41fb-eb6a-5256e6bf7287"
      },
      "execution_count": 23,
      "outputs": [
        {
          "output_type": "stream",
          "name": "stdout",
          "text": [
            "Epoch 1/100\n",
            "11/11 [==============================] - 0s 18ms/step - loss: 6.0163 - mse: 6.0163 - mae: 1.8349 - val_loss: 7.1860 - val_mse: 7.1860 - val_mae: 1.9758\n",
            "Epoch 2/100\n",
            "11/11 [==============================] - 0s 5ms/step - loss: 4.6199 - mse: 4.6199 - mae: 1.6195 - val_loss: 8.1830 - val_mse: 8.1830 - val_mae: 2.2651\n",
            "Epoch 3/100\n",
            "11/11 [==============================] - 0s 4ms/step - loss: 4.5726 - mse: 4.5726 - mae: 1.6480 - val_loss: 5.7630 - val_mse: 5.7630 - val_mae: 1.6552\n",
            "Epoch 4/100\n",
            "11/11 [==============================] - 0s 3ms/step - loss: 4.4622 - mse: 4.4622 - mae: 1.5993 - val_loss: 12.1045 - val_mse: 12.1045 - val_mae: 2.5676\n",
            "Epoch 5/100\n",
            "11/11 [==============================] - 0s 3ms/step - loss: 5.1776 - mse: 5.1776 - mae: 1.7115 - val_loss: 7.2099 - val_mse: 7.2099 - val_mae: 2.0105\n",
            "Epoch 6/100\n",
            "11/11 [==============================] - 0s 3ms/step - loss: 4.3826 - mse: 4.3826 - mae: 1.6143 - val_loss: 10.3540 - val_mse: 10.3540 - val_mae: 2.3641\n",
            "Epoch 7/100\n",
            "11/11 [==============================] - 0s 4ms/step - loss: 3.7960 - mse: 3.7960 - mae: 1.4841 - val_loss: 4.6321 - val_mse: 4.6321 - val_mae: 1.5616\n",
            "Epoch 8/100\n",
            "11/11 [==============================] - 0s 3ms/step - loss: 3.2592 - mse: 3.2592 - mae: 1.3788 - val_loss: 8.0570 - val_mse: 8.0570 - val_mae: 1.9061\n",
            "Epoch 9/100\n",
            "11/11 [==============================] - 0s 5ms/step - loss: 4.1853 - mse: 4.1853 - mae: 1.5495 - val_loss: 8.2208 - val_mse: 8.2208 - val_mae: 1.8551\n",
            "Epoch 10/100\n",
            "11/11 [==============================] - 0s 3ms/step - loss: 3.5522 - mse: 3.5522 - mae: 1.4267 - val_loss: 5.8460 - val_mse: 5.8460 - val_mae: 1.6376\n",
            "Epoch 11/100\n",
            "11/11 [==============================] - 0s 3ms/step - loss: 4.6838 - mse: 4.6838 - mae: 1.6683 - val_loss: 147.3531 - val_mse: 147.3531 - val_mae: 5.8780\n",
            "Epoch 12/100\n",
            "11/11 [==============================] - 0s 3ms/step - loss: 51.7006 - mse: 51.7006 - mae: 4.5198 - val_loss: 31.1042 - val_mse: 31.1042 - val_mae: 3.5598\n",
            "Epoch 13/100\n",
            "11/11 [==============================] - 0s 3ms/step - loss: 11.9773 - mse: 11.9773 - mae: 2.5625 - val_loss: 13.5542 - val_mse: 13.5542 - val_mae: 2.7569\n",
            "Epoch 14/100\n",
            "11/11 [==============================] - 0s 4ms/step - loss: 7.9923 - mse: 7.9923 - mae: 2.0695 - val_loss: 13.3057 - val_mse: 13.3057 - val_mae: 2.3963\n",
            "Epoch 15/100\n",
            "11/11 [==============================] - 0s 3ms/step - loss: 7.9143 - mse: 7.9143 - mae: 2.1243 - val_loss: 27.9809 - val_mse: 27.9809 - val_mae: 3.3952\n",
            "Epoch 16/100\n",
            "11/11 [==============================] - 0s 3ms/step - loss: 8.2027 - mse: 8.2027 - mae: 2.0890 - val_loss: 10.0774 - val_mse: 10.0774 - val_mae: 2.4582\n",
            "Epoch 17/100\n",
            "11/11 [==============================] - 0s 4ms/step - loss: 4.7582 - mse: 4.7582 - mae: 1.6789 - val_loss: 20.1887 - val_mse: 20.1887 - val_mae: 3.6241\n",
            "Epoch 18/100\n",
            "11/11 [==============================] - 0s 3ms/step - loss: 6.0110 - mse: 6.0110 - mae: 1.8683 - val_loss: 9.1453 - val_mse: 9.1453 - val_mae: 2.2756\n",
            "Epoch 19/100\n",
            "11/11 [==============================] - 0s 3ms/step - loss: 7.0041 - mse: 7.0041 - mae: 2.0993 - val_loss: 10.0728 - val_mse: 10.0728 - val_mae: 2.2988\n",
            "Epoch 20/100\n",
            "11/11 [==============================] - 0s 4ms/step - loss: 5.6855 - mse: 5.6855 - mae: 1.8389 - val_loss: 13.2237 - val_mse: 13.2237 - val_mae: 2.4910\n",
            "Epoch 21/100\n",
            "11/11 [==============================] - 0s 3ms/step - loss: 5.6323 - mse: 5.6323 - mae: 1.8539 - val_loss: 32.9495 - val_mse: 32.9495 - val_mae: 3.9029\n",
            "Epoch 22/100\n",
            "11/11 [==============================] - 0s 4ms/step - loss: 16.4418 - mse: 16.4418 - mae: 2.9257 - val_loss: 10.3428 - val_mse: 10.3428 - val_mae: 2.3567\n",
            "Epoch 23/100\n",
            "11/11 [==============================] - 0s 3ms/step - loss: 4.5712 - mse: 4.5712 - mae: 1.6608 - val_loss: 9.1774 - val_mse: 9.1774 - val_mae: 2.1740\n",
            "Epoch 24/100\n",
            "11/11 [==============================] - 0s 3ms/step - loss: 4.5838 - mse: 4.5838 - mae: 1.6214 - val_loss: 45.8865 - val_mse: 45.8865 - val_mae: 4.3771\n",
            "Epoch 25/100\n",
            "11/11 [==============================] - 0s 3ms/step - loss: 10.5656 - mse: 10.5656 - mae: 2.3282 - val_loss: 31.8908 - val_mse: 31.8908 - val_mae: 4.0335\n",
            "Epoch 26/100\n",
            "11/11 [==============================] - 0s 3ms/step - loss: 9.4560 - mse: 9.4560 - mae: 2.1320 - val_loss: 11.4067 - val_mse: 11.4067 - val_mae: 2.1615\n",
            "Epoch 27/100\n",
            "11/11 [==============================] - 0s 4ms/step - loss: 6.3638 - mse: 6.3638 - mae: 1.9147 - val_loss: 11.8237 - val_mse: 11.8237 - val_mae: 2.4374\n",
            "Epoch 28/100\n",
            "11/11 [==============================] - 0s 4ms/step - loss: 5.7369 - mse: 5.7369 - mae: 1.8620 - val_loss: 15.9613 - val_mse: 15.9613 - val_mae: 2.7388\n",
            "Epoch 29/100\n",
            "11/11 [==============================] - 0s 3ms/step - loss: 8.5580 - mse: 8.5580 - mae: 2.1924 - val_loss: 8.1350 - val_mse: 8.1350 - val_mae: 2.0686\n",
            "Epoch 30/100\n",
            "11/11 [==============================] - 0s 4ms/step - loss: 4.3747 - mse: 4.3747 - mae: 1.6004 - val_loss: 17.2332 - val_mse: 17.2332 - val_mae: 2.6752\n",
            "Epoch 31/100\n",
            "11/11 [==============================] - 0s 5ms/step - loss: 4.5917 - mse: 4.5917 - mae: 1.6426 - val_loss: 15.6690 - val_mse: 15.6690 - val_mae: 2.9113\n",
            "Epoch 32/100\n",
            "11/11 [==============================] - 0s 3ms/step - loss: 5.0088 - mse: 5.0088 - mae: 1.7497 - val_loss: 8.2789 - val_mse: 8.2789 - val_mae: 1.9995\n",
            "Epoch 33/100\n",
            "11/11 [==============================] - 0s 4ms/step - loss: 3.9388 - mse: 3.9388 - mae: 1.5346 - val_loss: 10.7379 - val_mse: 10.7379 - val_mae: 2.0919\n",
            "Epoch 34/100\n",
            "11/11 [==============================] - 0s 3ms/step - loss: 4.2379 - mse: 4.2379 - mae: 1.5788 - val_loss: 15.5418 - val_mse: 15.5418 - val_mae: 3.0821\n",
            "Epoch 35/100\n",
            "11/11 [==============================] - 0s 3ms/step - loss: 5.0222 - mse: 5.0222 - mae: 1.7370 - val_loss: 9.5943 - val_mse: 9.5943 - val_mae: 2.3349\n",
            "Epoch 36/100\n",
            "11/11 [==============================] - 0s 4ms/step - loss: 3.4501 - mse: 3.4501 - mae: 1.5001 - val_loss: 14.8171 - val_mse: 14.8171 - val_mae: 2.9405\n",
            "Epoch 37/100\n",
            "11/11 [==============================] - 0s 3ms/step - loss: 6.3947 - mse: 6.3947 - mae: 1.8154 - val_loss: 11.5637 - val_mse: 11.5637 - val_mae: 2.3023\n",
            "Epoch 38/100\n",
            "11/11 [==============================] - 0s 5ms/step - loss: 4.1672 - mse: 4.1672 - mae: 1.5927 - val_loss: 13.2744 - val_mse: 13.2744 - val_mae: 2.4585\n",
            "Epoch 39/100\n",
            "11/11 [==============================] - 0s 5ms/step - loss: 4.4612 - mse: 4.4612 - mae: 1.6503 - val_loss: 13.5176 - val_mse: 13.5176 - val_mae: 2.6174\n",
            "Epoch 40/100\n",
            "11/11 [==============================] - 0s 3ms/step - loss: 3.4696 - mse: 3.4696 - mae: 1.4420 - val_loss: 9.6966 - val_mse: 9.6966 - val_mae: 2.1670\n",
            "Epoch 41/100\n",
            "11/11 [==============================] - 0s 3ms/step - loss: 3.4140 - mse: 3.4140 - mae: 1.4613 - val_loss: 10.0886 - val_mse: 10.0886 - val_mae: 2.1600\n",
            "Epoch 42/100\n",
            "11/11 [==============================] - 0s 3ms/step - loss: 3.0129 - mse: 3.0129 - mae: 1.3483 - val_loss: 9.7532 - val_mse: 9.7532 - val_mae: 2.2030\n",
            "Epoch 43/100\n",
            "11/11 [==============================] - 0s 4ms/step - loss: 3.5885 - mse: 3.5885 - mae: 1.4880 - val_loss: 8.8112 - val_mse: 8.8112 - val_mae: 2.2574\n",
            "Epoch 44/100\n",
            "11/11 [==============================] - 0s 5ms/step - loss: 3.9315 - mse: 3.9315 - mae: 1.5320 - val_loss: 9.6685 - val_mse: 9.6685 - val_mae: 2.1798\n",
            "Epoch 45/100\n",
            "11/11 [==============================] - 0s 3ms/step - loss: 3.3865 - mse: 3.3865 - mae: 1.4429 - val_loss: 8.0917 - val_mse: 8.0917 - val_mae: 2.0488\n",
            "Epoch 46/100\n",
            "11/11 [==============================] - 0s 4ms/step - loss: 3.2012 - mse: 3.2012 - mae: 1.3706 - val_loss: 9.7833 - val_mse: 9.7833 - val_mae: 2.1157\n",
            "Epoch 47/100\n",
            "11/11 [==============================] - 0s 4ms/step - loss: 2.9249 - mse: 2.9249 - mae: 1.3422 - val_loss: 10.7096 - val_mse: 10.7096 - val_mae: 2.1864\n",
            "Epoch 48/100\n",
            "11/11 [==============================] - 0s 3ms/step - loss: 3.5853 - mse: 3.5853 - mae: 1.4217 - val_loss: 12.7561 - val_mse: 12.7561 - val_mae: 2.6802\n",
            "Epoch 49/100\n",
            "11/11 [==============================] - 0s 5ms/step - loss: 4.8633 - mse: 4.8633 - mae: 1.7651 - val_loss: 14.8714 - val_mse: 14.8714 - val_mae: 2.9131\n",
            "Epoch 50/100\n",
            "11/11 [==============================] - 0s 4ms/step - loss: 3.1620 - mse: 3.1620 - mae: 1.3841 - val_loss: 15.3114 - val_mse: 15.3114 - val_mae: 2.8755\n",
            "Epoch 51/100\n",
            "11/11 [==============================] - 0s 4ms/step - loss: 3.0189 - mse: 3.0189 - mae: 1.3478 - val_loss: 9.9788 - val_mse: 9.9788 - val_mae: 2.3089\n",
            "Epoch 52/100\n",
            "11/11 [==============================] - 0s 3ms/step - loss: 4.3110 - mse: 4.3110 - mae: 1.5704 - val_loss: 10.3199 - val_mse: 10.3199 - val_mae: 2.1890\n",
            "Epoch 53/100\n",
            "11/11 [==============================] - 0s 4ms/step - loss: 3.8736 - mse: 3.8736 - mae: 1.5386 - val_loss: 10.1412 - val_mse: 10.1412 - val_mae: 2.1627\n",
            "Epoch 54/100\n",
            "11/11 [==============================] - 0s 3ms/step - loss: 3.6201 - mse: 3.6201 - mae: 1.5085 - val_loss: 11.8923 - val_mse: 11.8923 - val_mae: 2.4856\n",
            "Epoch 55/100\n",
            "11/11 [==============================] - 0s 4ms/step - loss: 4.3977 - mse: 4.3977 - mae: 1.6369 - val_loss: 11.4671 - val_mse: 11.4671 - val_mae: 2.6729\n",
            "Epoch 56/100\n",
            "11/11 [==============================] - 0s 4ms/step - loss: 4.5185 - mse: 4.5185 - mae: 1.5933 - val_loss: 10.1555 - val_mse: 10.1555 - val_mae: 2.3287\n",
            "Epoch 57/100\n",
            "11/11 [==============================] - 0s 3ms/step - loss: 4.6963 - mse: 4.6963 - mae: 1.6587 - val_loss: 11.6666 - val_mse: 11.6666 - val_mae: 2.3628\n",
            "Epoch 58/100\n",
            "11/11 [==============================] - 0s 3ms/step - loss: 4.9106 - mse: 4.9106 - mae: 1.6539 - val_loss: 9.3242 - val_mse: 9.3242 - val_mae: 2.0740\n",
            "Epoch 59/100\n",
            "11/11 [==============================] - 0s 4ms/step - loss: 2.6825 - mse: 2.6825 - mae: 1.3013 - val_loss: 9.4481 - val_mse: 9.4481 - val_mae: 2.0328\n",
            "Epoch 60/100\n",
            "11/11 [==============================] - 0s 5ms/step - loss: 2.6716 - mse: 2.6716 - mae: 1.2900 - val_loss: 16.6678 - val_mse: 16.6678 - val_mae: 2.9911\n",
            "Epoch 61/100\n",
            "11/11 [==============================] - 0s 4ms/step - loss: 4.4659 - mse: 4.4659 - mae: 1.6382 - val_loss: 12.2084 - val_mse: 12.2084 - val_mae: 2.3926\n",
            "Epoch 62/100\n",
            "11/11 [==============================] - 0s 3ms/step - loss: 2.8221 - mse: 2.8221 - mae: 1.3050 - val_loss: 68.1218 - val_mse: 68.1218 - val_mae: 4.7983\n",
            "Epoch 63/100\n",
            "11/11 [==============================] - 0s 3ms/step - loss: 21.8436 - mse: 21.8436 - mae: 2.7802 - val_loss: 19.5881 - val_mse: 19.5881 - val_mae: 3.1941\n",
            "Epoch 64/100\n",
            "11/11 [==============================] - 0s 4ms/step - loss: 4.3388 - mse: 4.3388 - mae: 1.6387 - val_loss: 12.8404 - val_mse: 12.8404 - val_mae: 2.4451\n",
            "Epoch 65/100\n",
            "11/11 [==============================] - 0s 4ms/step - loss: 2.7954 - mse: 2.7954 - mae: 1.2895 - val_loss: 28.2525 - val_mse: 28.2525 - val_mae: 3.4677\n",
            "Epoch 66/100\n",
            "11/11 [==============================] - 0s 4ms/step - loss: 6.8646 - mse: 6.8646 - mae: 1.8894 - val_loss: 12.7612 - val_mse: 12.7612 - val_mae: 2.3178\n",
            "Epoch 67/100\n",
            "11/11 [==============================] - 0s 3ms/step - loss: 3.9518 - mse: 3.9518 - mae: 1.5147 - val_loss: 11.5769 - val_mse: 11.5769 - val_mae: 2.4448\n",
            "Epoch 68/100\n",
            "11/11 [==============================] - 0s 4ms/step - loss: 4.1298 - mse: 4.1298 - mae: 1.5849 - val_loss: 12.0048 - val_mse: 12.0048 - val_mae: 2.4130\n",
            "Epoch 69/100\n",
            "11/11 [==============================] - 0s 5ms/step - loss: 2.9091 - mse: 2.9091 - mae: 1.3400 - val_loss: 21.2115 - val_mse: 21.2115 - val_mae: 3.7759\n",
            "Epoch 70/100\n",
            "11/11 [==============================] - 0s 3ms/step - loss: 4.3277 - mse: 4.3277 - mae: 1.5197 - val_loss: 12.4189 - val_mse: 12.4189 - val_mae: 2.7027\n",
            "Epoch 71/100\n",
            "11/11 [==============================] - 0s 3ms/step - loss: 4.5456 - mse: 4.5456 - mae: 1.6126 - val_loss: 11.3027 - val_mse: 11.3027 - val_mae: 2.4088\n",
            "Epoch 72/100\n",
            "11/11 [==============================] - 0s 3ms/step - loss: 2.8732 - mse: 2.8732 - mae: 1.2946 - val_loss: 11.1590 - val_mse: 11.1590 - val_mae: 2.4612\n",
            "Epoch 73/100\n",
            "11/11 [==============================] - 0s 3ms/step - loss: 3.4795 - mse: 3.4795 - mae: 1.4359 - val_loss: 12.2926 - val_mse: 12.2926 - val_mae: 2.6197\n",
            "Epoch 74/100\n",
            "11/11 [==============================] - 0s 3ms/step - loss: 3.8062 - mse: 3.8062 - mae: 1.5379 - val_loss: 17.1677 - val_mse: 17.1677 - val_mae: 2.9758\n",
            "Epoch 75/100\n",
            "11/11 [==============================] - 0s 4ms/step - loss: 4.3831 - mse: 4.3831 - mae: 1.5583 - val_loss: 9.8513 - val_mse: 9.8513 - val_mae: 2.1044\n",
            "Epoch 76/100\n",
            "11/11 [==============================] - 0s 3ms/step - loss: 3.0984 - mse: 3.0984 - mae: 1.3472 - val_loss: 13.3489 - val_mse: 13.3489 - val_mae: 2.6086\n",
            "Epoch 77/100\n",
            "11/11 [==============================] - 0s 3ms/step - loss: 5.9875 - mse: 5.9875 - mae: 1.7922 - val_loss: 10.7465 - val_mse: 10.7465 - val_mae: 2.3485\n",
            "Epoch 78/100\n",
            "11/11 [==============================] - 0s 4ms/step - loss: 4.3296 - mse: 4.3296 - mae: 1.5801 - val_loss: 18.1255 - val_mse: 18.1255 - val_mae: 2.9118\n",
            "Epoch 79/100\n",
            "11/11 [==============================] - 0s 3ms/step - loss: 8.2664 - mse: 8.2664 - mae: 2.0154 - val_loss: 9.4798 - val_mse: 9.4798 - val_mae: 2.1018\n",
            "Epoch 80/100\n",
            "11/11 [==============================] - 0s 4ms/step - loss: 2.9239 - mse: 2.9239 - mae: 1.3047 - val_loss: 40.5820 - val_mse: 40.5820 - val_mae: 3.9988\n",
            "Epoch 81/100\n",
            "11/11 [==============================] - 0s 4ms/step - loss: 19.5486 - mse: 19.5486 - mae: 2.7660 - val_loss: 26.3595 - val_mse: 26.3595 - val_mae: 3.7807\n",
            "Epoch 82/100\n",
            "11/11 [==============================] - 0s 4ms/step - loss: 6.1273 - mse: 6.1273 - mae: 1.8753 - val_loss: 13.1458 - val_mse: 13.1458 - val_mae: 2.6899\n",
            "Epoch 83/100\n",
            "11/11 [==============================] - 0s 5ms/step - loss: 4.5793 - mse: 4.5793 - mae: 1.6272 - val_loss: 10.8174 - val_mse: 10.8174 - val_mae: 2.2705\n",
            "Epoch 84/100\n",
            "11/11 [==============================] - 0s 4ms/step - loss: 3.0341 - mse: 3.0341 - mae: 1.3326 - val_loss: 13.4347 - val_mse: 13.4347 - val_mae: 2.5143\n",
            "Epoch 85/100\n",
            "11/11 [==============================] - 0s 4ms/step - loss: 4.2847 - mse: 4.2847 - mae: 1.5714 - val_loss: 10.2661 - val_mse: 10.2661 - val_mae: 2.2949\n",
            "Epoch 86/100\n",
            "11/11 [==============================] - 0s 4ms/step - loss: 4.1363 - mse: 4.1363 - mae: 1.5933 - val_loss: 30.9763 - val_mse: 30.9763 - val_mae: 3.4302\n",
            "Epoch 87/100\n",
            "11/11 [==============================] - 0s 4ms/step - loss: 5.7324 - mse: 5.7324 - mae: 1.6916 - val_loss: 9.9195 - val_mse: 9.9195 - val_mae: 2.0315\n",
            "Epoch 88/100\n",
            "11/11 [==============================] - 0s 4ms/step - loss: 2.9216 - mse: 2.9216 - mae: 1.3409 - val_loss: 9.6827 - val_mse: 9.6827 - val_mae: 2.1661\n",
            "Epoch 89/100\n",
            "11/11 [==============================] - 0s 5ms/step - loss: 2.9565 - mse: 2.9565 - mae: 1.3565 - val_loss: 10.2252 - val_mse: 10.2252 - val_mae: 2.1851\n",
            "Epoch 90/100\n",
            "11/11 [==============================] - 0s 3ms/step - loss: 2.7680 - mse: 2.7680 - mae: 1.3041 - val_loss: 17.1475 - val_mse: 17.1475 - val_mae: 2.8250\n",
            "Epoch 91/100\n",
            "11/11 [==============================] - 0s 3ms/step - loss: 3.2405 - mse: 3.2405 - mae: 1.3580 - val_loss: 11.8765 - val_mse: 11.8765 - val_mae: 2.3140\n",
            "Epoch 92/100\n",
            "11/11 [==============================] - 0s 4ms/step - loss: 2.6284 - mse: 2.6284 - mae: 1.2565 - val_loss: 16.5616 - val_mse: 16.5616 - val_mae: 2.8613\n",
            "Epoch 93/100\n",
            "11/11 [==============================] - 0s 3ms/step - loss: 4.1154 - mse: 4.1154 - mae: 1.5578 - val_loss: 13.4894 - val_mse: 13.4894 - val_mae: 2.3423\n",
            "Epoch 94/100\n",
            "11/11 [==============================] - 0s 4ms/step - loss: 3.8264 - mse: 3.8264 - mae: 1.4603 - val_loss: 12.6108 - val_mse: 12.6108 - val_mae: 2.4306\n",
            "Epoch 95/100\n",
            "11/11 [==============================] - 0s 4ms/step - loss: 2.6581 - mse: 2.6581 - mae: 1.2931 - val_loss: 11.8727 - val_mse: 11.8727 - val_mae: 2.2600\n",
            "Epoch 96/100\n",
            "11/11 [==============================] - 0s 4ms/step - loss: 2.4321 - mse: 2.4321 - mae: 1.2215 - val_loss: 10.3501 - val_mse: 10.3501 - val_mae: 2.3598\n",
            "Epoch 97/100\n",
            "11/11 [==============================] - 0s 5ms/step - loss: 3.0470 - mse: 3.0470 - mae: 1.3718 - val_loss: 18.8570 - val_mse: 18.8570 - val_mae: 2.8657\n",
            "Epoch 98/100\n",
            "11/11 [==============================] - 0s 4ms/step - loss: 4.1820 - mse: 4.1820 - mae: 1.5338 - val_loss: 38.8265 - val_mse: 38.8265 - val_mae: 4.0669\n",
            "Epoch 99/100\n",
            "11/11 [==============================] - 0s 4ms/step - loss: 7.3541 - mse: 7.3541 - mae: 1.9758 - val_loss: 15.1729 - val_mse: 15.1729 - val_mae: 2.7677\n",
            "Epoch 100/100\n",
            "11/11 [==============================] - 0s 5ms/step - loss: 3.5790 - mse: 3.5790 - mae: 1.4341 - val_loss: 9.5656 - val_mse: 9.5656 - val_mae: 2.0670\n"
          ]
        },
        {
          "output_type": "execute_result",
          "data": {
            "text/plain": [
              "<keras.callbacks.History at 0x7f5de10bf290>"
            ]
          },
          "metadata": {},
          "execution_count": 23
        }
      ]
    },
    {
      "cell_type": "code",
      "source": [
        "model.evaluate(X_test, y_test, batch_size=128)\n"
      ],
      "metadata": {
        "colab": {
          "base_uri": "https://localhost:8080/"
        },
        "id": "8zJYuLkbXFz2",
        "outputId": "51363d05-eda1-476c-8d63-f475816f34a7"
      },
      "execution_count": 24,
      "outputs": [
        {
          "output_type": "stream",
          "name": "stdout",
          "text": [
            "1/1 [==============================] - 0s 17ms/step - loss: 7.8229 - mse: 7.8229 - mae: 2.1632\n"
          ]
        },
        {
          "output_type": "execute_result",
          "data": {
            "text/plain": [
              "[7.822910308837891, 7.822910308837891, 2.163228750228882]"
            ]
          },
          "metadata": {},
          "execution_count": 24
        }
      ]
    },
    {
      "cell_type": "code",
      "source": [
        "y_pred = model.predict(X_test).flatten()\n",
        "\n",
        "a = plt.axes(aspect='equal')\n",
        "plt.scatter(y_test, y_pred)\n",
        "plt.xlabel('True values')\n",
        "plt.ylabel('Predicted values')\n",
        "plt.title('A plot that shows the true and predicted values')\n",
        "plt.xlim([0, 60])\n",
        "plt.ylim([0, 60])\n",
        "plt.plot([0, 60], [0, 60])"
      ],
      "metadata": {
        "colab": {
          "base_uri": "https://localhost:8080/",
          "height": 312
        },
        "id": "kfubLcrOVmiB",
        "outputId": "bb3ad9d3-d04b-45ce-9860-dc6141143a84"
      },
      "execution_count": 25,
      "outputs": [
        {
          "output_type": "execute_result",
          "data": {
            "text/plain": [
              "[<matplotlib.lines.Line2D at 0x7f5de32c4310>]"
            ]
          },
          "metadata": {},
          "execution_count": 25
        },
        {
          "output_type": "display_data",
          "data": {
            "image/png": "[encoded data removed]",
            "text/plain": [
              "<Figure size 432x288 with 1 Axes>"
            ]
          },
          "metadata": {
            "needs_background": "light"
          }
        }
      ]
    },
    {
      "cell_type": "code",
      "source": [
        ""
      ],
      "metadata": {
        "id": "VbUbsdEQcIEV"
      },
      "execution_count": null,
      "outputs": []
    }
  ]
}